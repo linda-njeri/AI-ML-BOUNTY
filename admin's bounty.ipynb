{
 "cells": [
  {
   "cell_type": "code",
   "execution_count": 30,
   "id": "647f65e8",
   "metadata": {},
   "outputs": [
    {
     "name": "stdout",
     "output_type": "stream",
     "text": [
      "                                        reviews.text  reviews.rating  \\\n",
      "0  I initially had trouble deciding between the p...             5.0   \n",
      "1  Allow me to preface this with a little history...             5.0   \n",
      "2  I am enjoying it so far. Great for reading. Ha...             4.0   \n",
      "3  I bought one of the first Paperwhites and have...             5.0   \n",
      "4  I have to say upfront - I don't like coroporat...             5.0   \n",
      "\n",
      "               reviews.date                    id  \n",
      "0  2015-08-08T00:00:00.000Z  AVpe7AsMilAPnD_xQ78G  \n",
      "1  2015-09-01T00:00:00.000Z  AVpe7AsMilAPnD_xQ78G  \n",
      "2  2015-07-20T00:00:00.000Z  AVpe7AsMilAPnD_xQ78G  \n",
      "3  2017-06-16T00:00:00.000Z  AVpe7AsMilAPnD_xQ78G  \n",
      "4  2016-08-11T00:00:00.000Z  AVpe7AsMilAPnD_xQ78G  \n"
     ]
    }
   ],
   "source": [
    "import pandas as pd\n",
    "\n",
    "# Read the CSV file\n",
    "data = pd.read_csv('customer_review.csv')\n",
    "\n",
    "# Select the desired columns\n",
    "selected_columns = ['reviews.text', 'reviews.rating', 'reviews.date', 'id']\n",
    "data = data[selected_columns]\n",
    "\n",
    "# Limit the rows to 500\n",
    "data = data.head(500)\n",
    "\n",
    "# Print the first few rows to verify the data\n",
    "print(data.head())\n"
   ]
  },
  {
   "cell_type": "code",
   "execution_count": 31,
   "id": "c41dd00d",
   "metadata": {},
   "outputs": [
    {
     "name": "stderr",
     "output_type": "stream",
     "text": [
      "[nltk_data] Downloading package punkt to\n",
      "[nltk_data]     C:\\Users\\user\\AppData\\Roaming\\nltk_data...\n",
      "[nltk_data]   Package punkt is already up-to-date!\n"
     ]
    },
    {
     "name": "stdout",
     "output_type": "stream",
     "text": [
      "0    [I, initially, had, trouble, deciding, between...\n",
      "1    [Allow, me, to, preface, this, with, a, little...\n",
      "2    [I, am, enjoying, it, so, far, ., Great, for, ...\n",
      "3    [I, bought, one, of, the, first, Paperwhites, ...\n",
      "4    [I, have, to, say, upfront, -, I, do, n't, lik...\n",
      "Name: tokenized_text, dtype: object\n"
     ]
    }
   ],
   "source": [
    "import nltk\n",
    "from nltk.tokenize import word_tokenize\n",
    "\n",
    "# Download necessary resources\n",
    "nltk.download('punkt')\n",
    "\n",
    "# Tokenize the review text\n",
    "data['tokenized_text'] = data['reviews.text'].apply(word_tokenize)\n",
    "\n",
    "# Print the tokenized text\n",
    "print(data['tokenized_text'].head())\n"
   ]
  },
  {
   "cell_type": "code",
   "execution_count": 32,
   "id": "a0c5830a",
   "metadata": {},
   "outputs": [
    {
     "name": "stdout",
     "output_type": "stream",
     "text": [
      "0    0.9804\n",
      "1    0.9874\n",
      "2    0.4364\n",
      "3    0.9743\n",
      "4    0.9930\n",
      "Name: sentiment_score, dtype: float64\n"
     ]
    }
   ],
   "source": [
    "from nltk.sentiment import SentimentIntensityAnalyzer\n",
    "\n",
    "# Initialize the sentiment analyzer\n",
    "analyzer = SentimentIntensityAnalyzer()\n",
    "\n",
    "# Calculate sentiment scores\n",
    "data['sentiment_score'] = data['reviews.text'].apply(lambda text: analyzer.polarity_scores(text)['compound'])\n",
    "\n",
    "# Print the sentiment scores\n",
    "print(data['sentiment_score'].head())\n"
   ]
  },
  {
   "cell_type": "code",
   "execution_count": 33,
   "id": "d0b6017d",
   "metadata": {},
   "outputs": [
    {
     "data": {
      "image/png": "[encoded data removed]",
      "text/plain": [
       "<Figure size 640x480 with 1 Axes>"
      ]
     },
     "metadata": {},
     "output_type": "display_data"
    }
   ],
   "source": [
    "import matplotlib.pyplot as plt\n",
    "\n",
    "# Define the sentiment labels and colors\n",
    "sentiment_labels = ['Negative', 'Neutral', 'Positive']\n",
    "sentiment_colors = ['red', 'gray', 'green']\n",
    "\n",
    "# Count the number of reviews for each sentiment\n",
    "sentiment_counts = data['sentiment_score'].apply(lambda score: 'Negative' if score < 0 else ('Positive' if score > 0 else 'Neutral')).value_counts()\n",
    "\n",
    "# Create the bar graph\n",
    "plt.bar(sentiment_labels, sentiment_counts, color=sentiment_colors)\n",
    "\n",
    "# Add labels and title\n",
    "plt.xlabel('Sentiment')\n",
    "plt.ylabel('Count')\n",
    "plt.title('Sentiment Analysis Results')\n",
    "\n",
    "# Add a legend\n",
    "plt.legend([sentiment_labels[0], sentiment_labels[2], sentiment_labels[1]])\n",
    "\n",
    "# Display the graph\n",
    "plt.show()\n",
    "\n"
   ]
  },
  {
   "cell_type": "code",
   "execution_count": 37,
   "id": "e6b84443",
   "metadata": {},
   "outputs": [
    {
     "name": "stdout",
     "output_type": "stream",
     "text": [
      "\n",
      "Title: Sentiment Analysis of Customer Reviews on Amazon Products\n",
      "\n",
      "Introduction:\n",
      "The Sentiment Analysis of Customer Reviews on Amazon Products is a Python-based project aimed at understanding the sentiment expressed by customers in their reviews. The project utilizes the NLTK library for sentiment analysis and the Matplotlib library for visualization. \n",
      "\n",
      "Data Acquisition:\n",
      "For this project, a CSV file named 'customer_review' is used as the data source. The file contains a table with multiple columns, including 'reviews_text', 'reviews_rating', 'reviews_date', and 'id'. To ensure manageable data, 500 rows and 8 columns are selected from the table. \n",
      "\n",
      "Data Processing and Cleaning:\n",
      "To prepare the data for sentiment analysis, tokenization is performed using the NLTK library. The 'reviews_text' column is tokenized, splitting the text into individual words or tokens. This step helps in standardizing the text data for further analysis.\n",
      "\n",
      "Sentiment Analysis Implementation:\n",
      "The NLTK library's Naive Bayes classifier is used to perform sentiment analysis. The SentimentIntensityAnalyzer class is employed to calculate polarity scores for each review's text. The sentiment scores indicate the overall sentiment expressed in the review, ranging from negative to positive.\n",
      "\n",
      "Results Visualization:\n",
      "To present the sentiment analysis outcomes, a bar graph is created using the Matplotlib library. The graph displays the weight of sentiment with different colors, categorizing sentiment scores into negative, neutral, and positive. A legend is included to provide a clear understanding of the sentiment scores.\n",
      "\n",
      "\n"
     ]
    }
   ],
   "source": [
    "writeup = \"\"\"\n",
    "Title: Sentiment Analysis of Customer Reviews on Amazon Products\n",
    "\n",
    "Introduction:\n",
    "The Sentiment Analysis of Customer Reviews on Amazon Products is a Python-based project aimed at understanding the sentiment expressed by customers in their reviews. The project utilizes the NLTK library for sentiment analysis and the Matplotlib library for visualization. \n",
    "\n",
    "Data Acquisition:\n",
    "For this project, a CSV file named 'customer_review' is used as the data source. The file contains a table with multiple columns, including 'reviews_text', 'reviews_rating', 'reviews_date', and 'id'. To ensure manageable data, 500 rows and 8 columns are selected from the table. \n",
    "\n",
    "Data Processing and Cleaning:\n",
    "To prepare the data for sentiment analysis, tokenization is performed using the NLTK library. The 'reviews_text' column is tokenized, splitting the text into individual words or tokens. This step helps in standardizing the text data for further analysis.\n",
    "\n",
    "Sentiment Analysis Implementation:\n",
    "The NLTK library's Naive Bayes classifier is used to perform sentiment analysis. The SentimentIntensityAnalyzer class is employed to calculate polarity scores for each review's text. The sentiment scores indicate the overall sentiment expressed in the review, ranging from negative to positive.\n",
    "\n",
    "Results Visualization:\n",
    "To present the sentiment analysis outcomes, a bar graph is created using the Matplotlib library. The graph displays the weight of sentiment with different colors, categorizing sentiment scores into negative, neutral, and positive. A legend is included to provide a clear understanding of the sentiment scores.\n",
    "\n",
    "\"\"\"\n",
    "print(writeup)"
   ]
  },
  {
   "cell_type": "code",
   "execution_count": null,
   "id": "3ede7aa1",
   "metadata": {},
   "outputs": [],
   "source": []
  }
 ],
 "metadata": {
  "kernelspec": {
   "display_name": "Python 3 (ipykernel)",
   "language": "python",
   "name": "python3"
  },
  "language_info": {
   "codemirror_mode": {
    "name": "ipython",
    "version": 3
   },
   "file_extension": ".py",
   "mimetype": "text/x-python",
   "name": "python",
   "nbconvert_exporter": "python",
   "pygments_lexer": "ipython3",
   "version": "3.10.8"
  }
 },
 "nbformat": 4,
 "nbformat_minor": 5
}
